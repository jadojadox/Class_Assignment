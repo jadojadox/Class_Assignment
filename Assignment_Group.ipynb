{
 "cells": [
  {
   "cell_type": "markdown",
   "metadata": {},
   "source": [
    "Group Names:\n",
    "\n",
    "1. NIYOMUHOZA Jean de Dieu\n",
    "2. ISHIMWE Dorcas\n",
    "3. INGABIRE Ernestine\n",
    "4. NGABO Christian"
   ]
  },
  {
   "cell_type": "markdown",
   "metadata": {},
   "source": [
    "Q1. Pizza Toppings: Write a loop that prompts the user to enter a series of pizza toppings until they enter a 'quit' value. As they enter each topping, print a message saying you’ll add that topping to their pizza. "
   ]
  },
  {
   "cell_type": "code",
   "execution_count": null,
   "metadata": {},
   "outputs": [],
   "source": [
    "toppings = []\n",
    "while True:\n",
    "    topping = input(\"Enter a topping to add to your pizza (enter 'quit' to finish): \")\n",
    "    if topping.lower() == 'quit':\n",
    "        break\n",
    "    print(\"Adding\", topping, \"to your pizza.\")\n",
    "    toppings.append(topping)\n",
    "print(\"Your pizza with toppings\", toppings, \"is ready!\")\n"
   ]
  },
  {
   "cell_type": "markdown",
   "metadata": {},
   "source": [
    "Q2.\tMovie Tickets: A movie theatre charges different ticket prices depending on a person’s age. If a person is under the age of 3, the ticket is free; if they are between 3 and 12, the ticket is $10; and if they are over age 12, the ticket is $15. Write a loop in which you ask users their age, and then tell them the cost of their movie ticket."
   ]
  },
  {
   "cell_type": "code",
   "execution_count": null,
   "metadata": {},
   "outputs": [],
   "source": [
    "while True:\n",
    "    age = input(\"Please enter your age (or type 'quit' to exit): \")\n",
    "    if age.lower() == 'quit':\n",
    "        break\n",
    "    age = int(age)\n",
    "    if age < 3:\n",
    "        print(\"Your ticket is free!\")\n",
    "    elif 3 <= age <= 12:\n",
    "        print(\"Your ticket costs $10.\")\n",
    "    else:\n",
    "        print(\"Your ticket costs $15.\")\n"
   ]
  },
  {
   "cell_type": "markdown",
   "metadata": {},
   "source": [
    "Q3.\tThree Exits: Write different versions of either Exercise 1 or 2 that do each of the following at least once:\n",
    "\tUse a conditional test in the while statement to stop the loop.\n",
    "\t Use an active variable to control how long the loop runs.\n",
    "\tUse a break statement to exit the loop when the user enters a 'quit' value."
   ]
  },
  {
   "cell_type": "code",
   "execution_count": null,
   "metadata": {},
   "outputs": [],
   "source": [
    "active = True\n",
    "while active:\n",
    "    age = input(\"Please enter your age (or type 'quit' to exit): \")\n",
    "    if age.lower() == 'quit':\n",
    "        active = False\n",
    "        break\n",
    "    age = int(age)\n",
    "    if age < 3:\n",
    "        print(\"Your ticket is free!\")\n",
    "    elif 3 <= age <= 12:\n",
    "        print(\"Your ticket costs $10.\")\n",
    "    else:\n",
    "        print(\"Your ticket costs $15.\")\n",
    "        "
   ]
  },
  {
   "cell_type": "markdown",
   "metadata": {},
   "source": [
    "4.\tInfinity: Write a loop that never ends, and run it. (To end the loop, press CTRL-C or close the window displaying the output.) "
   ]
  },
  {
   "cell_type": "code",
   "execution_count": null,
   "metadata": {},
   "outputs": [],
   "source": [
    "while True:\n",
    "    print(\"This is Infinity Loop\")"
   ]
  },
  {
   "cell_type": "markdown",
   "metadata": {},
   "source": [
    "5.\tMake a list called sandwich_orders and fill it with the names of various sandwiches. Then make an empty list called finished_sandwiches. Loop through the list of sandwich orders and print a message for each order, such as I made your tuna sandwich. As each sandwich is made, move it to the list of finished sandwiches. After all the sandwiches have been made, print a message listing each sandwich that was made."
   ]
  },
  {
   "cell_type": "code",
   "execution_count": null,
   "metadata": {},
   "outputs": [],
   "source": [
    "sandwich_orders = [\"BLT\", \"turkey club\", \"grilled cheese\", \"tuna\"]\n",
    "finished_sandwiches = []\n",
    "\n",
    "for sandwich in sandwich_orders:\n",
    "    print(f\"I made your {sandwich} sandwich.\")\n",
    "    finished_sandwiches.append(sandwich)\n",
    "print(\"\\nList of sandwiches made:\")\n",
    "for sandwich in finished_sandwiches:\n",
    "    print(sandwich)\n"
   ]
  },
  {
   "cell_type": "markdown",
   "metadata": {},
   "source": [
    "\n",
    "6.\tRestaurant Seating: Write a program that asks the user how many people are in their dinner group. If the answer is more than eight, print a message saying they’ll have to wait for a table. Otherwise, report that their table is ready.\n"
   ]
  },
  {
   "cell_type": "code",
   "execution_count": null,
   "metadata": {},
   "outputs": [],
   "source": [
    "num_people = int(input(\"How many people are in your dinner group? \"))\n",
    "if num_people > 8:\n",
    "    print(\"Sorry, you'll have to wait for a table.\")\n",
    "else:\n",
    "    print(\"Your table is ready.\")\n"
   ]
  },
  {
   "cell_type": "markdown",
   "metadata": {},
   "source": [
    "\n",
    "7.\tFavorite Places: Make a dictionary called favorite_places. Think of three names to use as keys in the dictionary, and store one to three favorite places for each person. To make this exercise a bit more interesting, ask some friends to name a few of their favorite places. Loop through the dictionary, and print each person’s name and their favorite places.\n"
   ]
  },
  {
   "cell_type": "code",
   "execution_count": null,
   "metadata": {},
   "outputs": [],
   "source": [
    "favorite_places = {\n",
    "    'Alice': ['Paris', 'Kyoto'],\n",
    "    'Bob': ['New York'],\n",
    "    'Charlie': ['Sydney', 'Barcelona', 'Tokyo']\n",
    "}\n",
    "\n",
    "for person, places in favorite_places.items():\n",
    "    print(f\"{person}'s favorite places are: {', '.join(places)}\")\n"
   ]
  },
  {
   "cell_type": "markdown",
   "metadata": {},
   "source": [
    "\n",
    "8.\tMake a dictionary called cities. Use the names of three cities as keys in your dictionary. Create a dictionary of information about each city and include the country that the city is in, its approximate population, and one fact about that city. The keys for each city’s dictionary should be something like country, population, and fact. Print the name of each city and all of the information you have stored about it.\n"
   ]
  },
  {
   "cell_type": "code",
   "execution_count": null,
   "metadata": {},
   "outputs": [],
   "source": [
    "cities = {\n",
    "    'Tokyo': {'country': 'Japan', 'population': '13.9 million', 'fact': 'Hosted the 2020 Summer Olympics'},\n",
    "    'London': {'country': 'United Kingdom', 'population': '8.9 million', 'fact': 'Home to the British Museum'},\n",
    "    'New York': {'country': 'United States', 'population': '8.4 million', 'fact': 'Has the Statue of Liberty'}\n",
    "}\n",
    "\n",
    "for city, info in cities.items():\n",
    "    print(f\"City: {city}\")\n",
    "    for key, value in info.items():\n",
    "        print(f\"\\t{key}: {value}\")\n"
   ]
  },
  {
   "cell_type": "markdown",
   "metadata": {},
   "source": [
    "\n",
    "9.\tMake a dictionary containing three major rivers and the country each river runs through. One key-value pair might be 'nile': 'egypt'.\n",
    "\n",
    "\tUse a loop to print a sentence about each river, such as The Nile runs through Egypt.\n",
    "\tUse a loop to print the name of each river included in the dictionary.\n",
    "\tUse a loop to print the name of each country included in the dictionary.\n"
   ]
  },
  {
   "cell_type": "code",
   "execution_count": null,
   "metadata": {},
   "outputs": [],
   "source": [
    "rivers = {\n",
    "    'Nile': 'Egypt',\n",
    "    'Amazon': 'Brazil',\n",
    "    'Yangtze': 'China'\n",
    "}\n",
    "\n",
    "for river, country in rivers.items():\n",
    "    print(f\"The {river} runs through {country}.\")\n",
    "\n",
    "print(\"\\nRivers:\")\n",
    "for river in rivers:\n",
    "    print(river)\n",
    "\n",
    "print(\"\\nCountries:\")\n",
    "for country in rivers.values():\n",
    "    print(country)\n"
   ]
  },
  {
   "cell_type": "markdown",
   "metadata": {},
   "source": [
    "10.\tChecking Usernames: Do the following to create a program that simulates how websites ensure that everyone has a unique username.\n",
    "\tMake a list of five or more usernames called current_users.\n",
    "\tMake another list of five usernames called new_users. Make sure one or two of the new usernames are also in the current_users list.\n",
    "\tLoop through the new_users list to see if each new username has already been used. If it has, print a message that the person will need to enter a new username. If a username has not been used, print a message saying that the username is available.\n",
    "\t Make sure your comparison is case insensitive. If 'John' has been used, 'JOHN' should not be accepted. (To do this, you’ll need to make a copy of current_users containing the lowercase versions of all existing users.)\n"
   ]
  },
  {
   "cell_type": "code",
   "execution_count": null,
   "metadata": {},
   "outputs": [],
   "source": [
    "current_users = ['alice', 'bob', 'charlie', 'david', 'eve']\n",
    "new_users = ['frank', 'alice', 'GARY', 'hannah', 'bob']\n",
    "\n",
    "# Convert current_users to lowercase for case-insensitive comparison\n",
    "current_users_lower = [user.lower() for user in current_users]\n",
    "\n",
    "for new_user in new_users:\n",
    "    if new_user.lower() in current_users_lower:\n",
    "        print(f\"Sorry, the username '{new_user}' is already taken. Please enter a new username.\")\n",
    "    else:\n",
    "        print(f\"The username '{new_user}' is available.\")\n",
    "\n"
   ]
  },
  {
   "cell_type": "markdown",
   "metadata": {},
   "source": [
    "THAT IS OUR GROUP WORK"
   ]
  }
 ],
 "metadata": {
  "kernelspec": {
   "display_name": "Python 3",
   "language": "python",
   "name": "python3"
  },
  "language_info": {
   "name": "python",
   "version": "3.12.0"
  }
 },
 "nbformat": 4,
 "nbformat_minor": 2
}
